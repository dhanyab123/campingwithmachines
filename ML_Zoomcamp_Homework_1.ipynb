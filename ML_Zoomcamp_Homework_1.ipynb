{
  "nbformat": 4,
  "nbformat_minor": 0,
  "metadata": {
    "colab": {
      "name": "ML Zoomcamp - Homework #1.ipynb",
      "provenance": [],
      "authorship_tag": "ABX9TyMUR8dS+FQy6jPe3/j5cYER",
      "include_colab_link": true
    },
    "kernelspec": {
      "name": "python3",
      "display_name": "Python 3"
    },
    "language_info": {
      "name": "python"
    }
  },
  "cells": [
    {
      "cell_type": "markdown",
      "metadata": {
        "id": "view-in-github",
        "colab_type": "text"
      },
      "source": [
        "<a href=\"https://colab.research.google.com/github/dhanyab123/campingwithmachines/blob/main/ML_Zoomcamp_Homework_1.ipynb\" target=\"_parent\"><img src=\"https://colab.research.google.com/assets/colab-badge.svg\" alt=\"Open In Colab\"/></a>"
      ]
    },
    {
      "cell_type": "markdown",
      "metadata": {
        "id": "Zi4cE0yzrE86"
      },
      "source": [
        "## Homework 1"
      ]
    },
    {
      "cell_type": "markdown",
      "metadata": {
        "id": "vinuIKKVq5YX"
      },
      "source": [
        "The questions can be found here: https://github.com/alexeygrigorev/mlbookcamp-code/blob/master/course-zoomcamp/01-intro/homework.md"
      ]
    },
    {
      "cell_type": "code",
      "metadata": {
        "id": "jgVRaonpP8hc"
      },
      "source": [
        "import numpy as np\n",
        "import pandas as pd\n",
        "import matplotlib.pyplot as plt\n",
        "import seaborn as sns"
      ],
      "execution_count": 3,
      "outputs": []
    },
    {
      "cell_type": "markdown",
      "metadata": {
        "id": "_7HlDtrqp2PB"
      },
      "source": [
        "### Answer 1 :"
      ]
    },
    {
      "cell_type": "code",
      "metadata": {
        "colab": {
          "base_uri": "https://localhost:8080/",
          "height": 35
        },
        "id": "do8dMpm0QDWp",
        "outputId": "bf0a1d50-42db-411b-ed0d-7e206f63bcae"
      },
      "source": [
        "# numpy version\n",
        "np.__version__"
      ],
      "execution_count": 4,
      "outputs": [
        {
          "output_type": "execute_result",
          "data": {
            "application/vnd.google.colaboratory.intrinsic+json": {
              "type": "string"
            },
            "text/plain": [
              "'1.19.5'"
            ]
          },
          "metadata": {},
          "execution_count": 4
        }
      ]
    },
    {
      "cell_type": "markdown",
      "metadata": {
        "id": "gRDbmXeEpxjk"
      },
      "source": [
        "### Answer 2 :"
      ]
    },
    {
      "cell_type": "code",
      "metadata": {
        "colab": {
          "base_uri": "https://localhost:8080/",
          "height": 35
        },
        "id": "C7ysM9udQSDN",
        "outputId": "6d03798d-3eaf-4b0b-a8bf-d8be0872d892"
      },
      "source": [
        "# pandas version\n",
        "pd.__version__"
      ],
      "execution_count": 5,
      "outputs": [
        {
          "output_type": "execute_result",
          "data": {
            "application/vnd.google.colaboratory.intrinsic+json": {
              "type": "string"
            },
            "text/plain": [
              "'1.1.5'"
            ]
          },
          "metadata": {},
          "execution_count": 5
        }
      ]
    },
    {
      "cell_type": "code",
      "metadata": {
        "colab": {
          "base_uri": "https://localhost:8080/",
          "height": 807
        },
        "id": "e4BnH6Z-QWYp",
        "outputId": "c6133a14-8122-4b97-bcf7-4a696c2b9087"
      },
      "source": [
        "# reading data\n",
        "data = pd.read_csv('https://raw.githubusercontent.com/alexeygrigorev/mlbookcamp-code/master/chapter-02-car-price/data.csv')\n",
        "data"
      ],
      "execution_count": 7,
      "outputs": [
        {
          "output_type": "execute_result",
          "data": {
            "text/html": [
              "<div>\n",
              "<style scoped>\n",
              "    .dataframe tbody tr th:only-of-type {\n",
              "        vertical-align: middle;\n",
              "    }\n",
              "\n",
              "    .dataframe tbody tr th {\n",
              "        vertical-align: top;\n",
              "    }\n",
              "\n",
              "    .dataframe thead th {\n",
              "        text-align: right;\n",
              "    }\n",
              "</style>\n",
              "<table border=\"1\" class=\"dataframe\">\n",
              "  <thead>\n",
              "    <tr style=\"text-align: right;\">\n",
              "      <th></th>\n",
              "      <th>Make</th>\n",
              "      <th>Model</th>\n",
              "      <th>Year</th>\n",
              "      <th>Engine Fuel Type</th>\n",
              "      <th>Engine HP</th>\n",
              "      <th>Engine Cylinders</th>\n",
              "      <th>Transmission Type</th>\n",
              "      <th>Driven_Wheels</th>\n",
              "      <th>Number of Doors</th>\n",
              "      <th>Market Category</th>\n",
              "      <th>Vehicle Size</th>\n",
              "      <th>Vehicle Style</th>\n",
              "      <th>highway MPG</th>\n",
              "      <th>city mpg</th>\n",
              "      <th>Popularity</th>\n",
              "      <th>MSRP</th>\n",
              "    </tr>\n",
              "  </thead>\n",
              "  <tbody>\n",
              "    <tr>\n",
              "      <th>0</th>\n",
              "      <td>BMW</td>\n",
              "      <td>1 Series M</td>\n",
              "      <td>2011</td>\n",
              "      <td>premium unleaded (required)</td>\n",
              "      <td>335.0</td>\n",
              "      <td>6.0</td>\n",
              "      <td>MANUAL</td>\n",
              "      <td>rear wheel drive</td>\n",
              "      <td>2.0</td>\n",
              "      <td>Factory Tuner,Luxury,High-Performance</td>\n",
              "      <td>Compact</td>\n",
              "      <td>Coupe</td>\n",
              "      <td>26</td>\n",
              "      <td>19</td>\n",
              "      <td>3916</td>\n",
              "      <td>46135</td>\n",
              "    </tr>\n",
              "    <tr>\n",
              "      <th>1</th>\n",
              "      <td>BMW</td>\n",
              "      <td>1 Series</td>\n",
              "      <td>2011</td>\n",
              "      <td>premium unleaded (required)</td>\n",
              "      <td>300.0</td>\n",
              "      <td>6.0</td>\n",
              "      <td>MANUAL</td>\n",
              "      <td>rear wheel drive</td>\n",
              "      <td>2.0</td>\n",
              "      <td>Luxury,Performance</td>\n",
              "      <td>Compact</td>\n",
              "      <td>Convertible</td>\n",
              "      <td>28</td>\n",
              "      <td>19</td>\n",
              "      <td>3916</td>\n",
              "      <td>40650</td>\n",
              "    </tr>\n",
              "    <tr>\n",
              "      <th>2</th>\n",
              "      <td>BMW</td>\n",
              "      <td>1 Series</td>\n",
              "      <td>2011</td>\n",
              "      <td>premium unleaded (required)</td>\n",
              "      <td>300.0</td>\n",
              "      <td>6.0</td>\n",
              "      <td>MANUAL</td>\n",
              "      <td>rear wheel drive</td>\n",
              "      <td>2.0</td>\n",
              "      <td>Luxury,High-Performance</td>\n",
              "      <td>Compact</td>\n",
              "      <td>Coupe</td>\n",
              "      <td>28</td>\n",
              "      <td>20</td>\n",
              "      <td>3916</td>\n",
              "      <td>36350</td>\n",
              "    </tr>\n",
              "    <tr>\n",
              "      <th>3</th>\n",
              "      <td>BMW</td>\n",
              "      <td>1 Series</td>\n",
              "      <td>2011</td>\n",
              "      <td>premium unleaded (required)</td>\n",
              "      <td>230.0</td>\n",
              "      <td>6.0</td>\n",
              "      <td>MANUAL</td>\n",
              "      <td>rear wheel drive</td>\n",
              "      <td>2.0</td>\n",
              "      <td>Luxury,Performance</td>\n",
              "      <td>Compact</td>\n",
              "      <td>Coupe</td>\n",
              "      <td>28</td>\n",
              "      <td>18</td>\n",
              "      <td>3916</td>\n",
              "      <td>29450</td>\n",
              "    </tr>\n",
              "    <tr>\n",
              "      <th>4</th>\n",
              "      <td>BMW</td>\n",
              "      <td>1 Series</td>\n",
              "      <td>2011</td>\n",
              "      <td>premium unleaded (required)</td>\n",
              "      <td>230.0</td>\n",
              "      <td>6.0</td>\n",
              "      <td>MANUAL</td>\n",
              "      <td>rear wheel drive</td>\n",
              "      <td>2.0</td>\n",
              "      <td>Luxury</td>\n",
              "      <td>Compact</td>\n",
              "      <td>Convertible</td>\n",
              "      <td>28</td>\n",
              "      <td>18</td>\n",
              "      <td>3916</td>\n",
              "      <td>34500</td>\n",
              "    </tr>\n",
              "    <tr>\n",
              "      <th>...</th>\n",
              "      <td>...</td>\n",
              "      <td>...</td>\n",
              "      <td>...</td>\n",
              "      <td>...</td>\n",
              "      <td>...</td>\n",
              "      <td>...</td>\n",
              "      <td>...</td>\n",
              "      <td>...</td>\n",
              "      <td>...</td>\n",
              "      <td>...</td>\n",
              "      <td>...</td>\n",
              "      <td>...</td>\n",
              "      <td>...</td>\n",
              "      <td>...</td>\n",
              "      <td>...</td>\n",
              "      <td>...</td>\n",
              "    </tr>\n",
              "    <tr>\n",
              "      <th>11909</th>\n",
              "      <td>Acura</td>\n",
              "      <td>ZDX</td>\n",
              "      <td>2012</td>\n",
              "      <td>premium unleaded (required)</td>\n",
              "      <td>300.0</td>\n",
              "      <td>6.0</td>\n",
              "      <td>AUTOMATIC</td>\n",
              "      <td>all wheel drive</td>\n",
              "      <td>4.0</td>\n",
              "      <td>Crossover,Hatchback,Luxury</td>\n",
              "      <td>Midsize</td>\n",
              "      <td>4dr Hatchback</td>\n",
              "      <td>23</td>\n",
              "      <td>16</td>\n",
              "      <td>204</td>\n",
              "      <td>46120</td>\n",
              "    </tr>\n",
              "    <tr>\n",
              "      <th>11910</th>\n",
              "      <td>Acura</td>\n",
              "      <td>ZDX</td>\n",
              "      <td>2012</td>\n",
              "      <td>premium unleaded (required)</td>\n",
              "      <td>300.0</td>\n",
              "      <td>6.0</td>\n",
              "      <td>AUTOMATIC</td>\n",
              "      <td>all wheel drive</td>\n",
              "      <td>4.0</td>\n",
              "      <td>Crossover,Hatchback,Luxury</td>\n",
              "      <td>Midsize</td>\n",
              "      <td>4dr Hatchback</td>\n",
              "      <td>23</td>\n",
              "      <td>16</td>\n",
              "      <td>204</td>\n",
              "      <td>56670</td>\n",
              "    </tr>\n",
              "    <tr>\n",
              "      <th>11911</th>\n",
              "      <td>Acura</td>\n",
              "      <td>ZDX</td>\n",
              "      <td>2012</td>\n",
              "      <td>premium unleaded (required)</td>\n",
              "      <td>300.0</td>\n",
              "      <td>6.0</td>\n",
              "      <td>AUTOMATIC</td>\n",
              "      <td>all wheel drive</td>\n",
              "      <td>4.0</td>\n",
              "      <td>Crossover,Hatchback,Luxury</td>\n",
              "      <td>Midsize</td>\n",
              "      <td>4dr Hatchback</td>\n",
              "      <td>23</td>\n",
              "      <td>16</td>\n",
              "      <td>204</td>\n",
              "      <td>50620</td>\n",
              "    </tr>\n",
              "    <tr>\n",
              "      <th>11912</th>\n",
              "      <td>Acura</td>\n",
              "      <td>ZDX</td>\n",
              "      <td>2013</td>\n",
              "      <td>premium unleaded (recommended)</td>\n",
              "      <td>300.0</td>\n",
              "      <td>6.0</td>\n",
              "      <td>AUTOMATIC</td>\n",
              "      <td>all wheel drive</td>\n",
              "      <td>4.0</td>\n",
              "      <td>Crossover,Hatchback,Luxury</td>\n",
              "      <td>Midsize</td>\n",
              "      <td>4dr Hatchback</td>\n",
              "      <td>23</td>\n",
              "      <td>16</td>\n",
              "      <td>204</td>\n",
              "      <td>50920</td>\n",
              "    </tr>\n",
              "    <tr>\n",
              "      <th>11913</th>\n",
              "      <td>Lincoln</td>\n",
              "      <td>Zephyr</td>\n",
              "      <td>2006</td>\n",
              "      <td>regular unleaded</td>\n",
              "      <td>221.0</td>\n",
              "      <td>6.0</td>\n",
              "      <td>AUTOMATIC</td>\n",
              "      <td>front wheel drive</td>\n",
              "      <td>4.0</td>\n",
              "      <td>Luxury</td>\n",
              "      <td>Midsize</td>\n",
              "      <td>Sedan</td>\n",
              "      <td>26</td>\n",
              "      <td>17</td>\n",
              "      <td>61</td>\n",
              "      <td>28995</td>\n",
              "    </tr>\n",
              "  </tbody>\n",
              "</table>\n",
              "<p>11914 rows × 16 columns</p>\n",
              "</div>"
            ],
            "text/plain": [
              "          Make       Model  Year  ... city mpg  Popularity   MSRP\n",
              "0          BMW  1 Series M  2011  ...       19        3916  46135\n",
              "1          BMW    1 Series  2011  ...       19        3916  40650\n",
              "2          BMW    1 Series  2011  ...       20        3916  36350\n",
              "3          BMW    1 Series  2011  ...       18        3916  29450\n",
              "4          BMW    1 Series  2011  ...       18        3916  34500\n",
              "...        ...         ...   ...  ...      ...         ...    ...\n",
              "11909    Acura         ZDX  2012  ...       16         204  46120\n",
              "11910    Acura         ZDX  2012  ...       16         204  56670\n",
              "11911    Acura         ZDX  2012  ...       16         204  50620\n",
              "11912    Acura         ZDX  2013  ...       16         204  50920\n",
              "11913  Lincoln      Zephyr  2006  ...       17          61  28995\n",
              "\n",
              "[11914 rows x 16 columns]"
            ]
          },
          "metadata": {},
          "execution_count": 7
        }
      ]
    },
    {
      "cell_type": "markdown",
      "metadata": {
        "id": "BexFjLNBpof8"
      },
      "source": [
        "### Answer 3 :"
      ]
    },
    {
      "cell_type": "code",
      "metadata": {
        "colab": {
          "base_uri": "https://localhost:8080/"
        },
        "id": "Dq8t4Is0SYu4",
        "outputId": "a3d7a15a-a8b9-4f82-fd5f-78ae69450b14"
      },
      "source": [
        "# separating data for bmw\n",
        "bmw = data.loc[data['Make']=='BMW']\n",
        "\n",
        "# finding avg\n",
        "np.average(bmw.MSRP)"
      ],
      "execution_count": 13,
      "outputs": [
        {
          "output_type": "execute_result",
          "data": {
            "text/plain": [
              "61546.76347305389"
            ]
          },
          "metadata": {},
          "execution_count": 13
        }
      ]
    },
    {
      "cell_type": "markdown",
      "metadata": {
        "id": "RzOqEjA6pc_g"
      },
      "source": [
        "### Answer 4 :"
      ]
    },
    {
      "cell_type": "code",
      "metadata": {
        "colab": {
          "base_uri": "https://localhost:8080/"
        },
        "id": "Tz_nQ3dXTh3a",
        "outputId": "873d0a80-60b5-4e55-9679-7735bda13485"
      },
      "source": [
        "# separating data for cars made on and after 2015\n",
        "cars_2015 = data[data['Year'] >= 2015]\n",
        "\n",
        "# looking at the data\n",
        "cars_2015.info()"
      ],
      "execution_count": 27,
      "outputs": [
        {
          "output_type": "stream",
          "name": "stdout",
          "text": [
            "<class 'pandas.core.frame.DataFrame'>\n",
            "Int64Index: 5995 entries, 32 to 11902\n",
            "Data columns (total 16 columns):\n",
            " #   Column             Non-Null Count  Dtype  \n",
            "---  ------             --------------  -----  \n",
            " 0   Make               5995 non-null   object \n",
            " 1   Model              5995 non-null   object \n",
            " 2   Year               5995 non-null   int64  \n",
            " 3   Engine Fuel Type   5995 non-null   object \n",
            " 4   Engine HP          5944 non-null   float64\n",
            " 5   Engine Cylinders   5987 non-null   float64\n",
            " 6   Transmission Type  5995 non-null   object \n",
            " 7   Driven_Wheels      5995 non-null   object \n",
            " 8   Number of Doors    5990 non-null   float64\n",
            " 9   Market Category    4671 non-null   object \n",
            " 10  Vehicle Size       5995 non-null   object \n",
            " 11  Vehicle Style      5995 non-null   object \n",
            " 12  highway MPG        5995 non-null   int64  \n",
            " 13  city mpg           5995 non-null   int64  \n",
            " 14  Popularity         5995 non-null   int64  \n",
            " 15  MSRP               5995 non-null   int64  \n",
            "dtypes: float64(3), int64(5), object(8)\n",
            "memory usage: 796.2+ KB\n"
          ]
        }
      ]
    },
    {
      "cell_type": "code",
      "metadata": {
        "colab": {
          "base_uri": "https://localhost:8080/"
        },
        "id": "VrpCKCUsUCf3",
        "outputId": "e30b9df0-3797-4539-de2e-ac96aac2dbef"
      },
      "source": [
        "# finding the number of null values in column\n",
        "cars_2015['Engine HP'].isnull().sum()"
      ],
      "execution_count": 31,
      "outputs": [
        {
          "output_type": "execute_result",
          "data": {
            "text/plain": [
              "51"
            ]
          },
          "metadata": {},
          "execution_count": 31
        }
      ]
    },
    {
      "cell_type": "markdown",
      "metadata": {
        "id": "WEyNvawjpRQQ"
      },
      "source": [
        "### Answer 5 :"
      ]
    },
    {
      "cell_type": "code",
      "metadata": {
        "colab": {
          "base_uri": "https://localhost:8080/"
        },
        "id": "jQ4fcm-fVs5v",
        "outputId": "b0c7eaba-d38f-4ddb-dc9e-04b256672eee"
      },
      "source": [
        "# finding avg (nan cause of null values)\n",
        "np.average(data['Engine HP'])"
      ],
      "execution_count": 101,
      "outputs": [
        {
          "output_type": "execute_result",
          "data": {
            "text/plain": [
              "nan"
            ]
          },
          "metadata": {},
          "execution_count": 101
        }
      ]
    },
    {
      "cell_type": "code",
      "metadata": {
        "id": "iynwHk7EW0ix"
      },
      "source": [
        "# separating the non null values\n",
        "val = data.loc[data['Engine HP'].isnull() == False]\n",
        "\n",
        "# finding avg\n",
        "ehp_avg = np.average(val['Engine HP'])"
      ],
      "execution_count": 102,
      "outputs": []
    },
    {
      "cell_type": "code",
      "metadata": {
        "id": "75PDALqlX28s"
      },
      "source": [
        "# filling null values with avg\n",
        "ehp = data['Engine HP'].fillna(ehp_avg)"
      ],
      "execution_count": 103,
      "outputs": []
    },
    {
      "cell_type": "code",
      "metadata": {
        "colab": {
          "base_uri": "https://localhost:8080/"
        },
        "id": "B6oCszVTcQwY",
        "outputId": "aa19cb34-aa93-4fcb-8e4b-6fc8295f0763"
      },
      "source": [
        "# final avg\n",
        "np.average(ehp)"
      ],
      "execution_count": 104,
      "outputs": [
        {
          "output_type": "execute_result",
          "data": {
            "text/plain": [
              "249.38607007176023"
            ]
          },
          "metadata": {},
          "execution_count": 104
        }
      ]
    },
    {
      "cell_type": "code",
      "metadata": {
        "colab": {
          "base_uri": "https://localhost:8080/"
        },
        "id": "vkTW8V4Acczh",
        "outputId": "09794f8c-18ff-4ea7-e7f7-aa5742b7b33c"
      },
      "source": [
        "# comparison\n",
        "print('Mean Engine HP Before:', round(ehp_avg))\n",
        "print('Mean Engine HP After:', round(np.average(ehp)))"
      ],
      "execution_count": 105,
      "outputs": [
        {
          "output_type": "stream",
          "name": "stdout",
          "text": [
            "Mean Engine HP Before: 249\n",
            "Mean Engine HP After: 249\n"
          ]
        }
      ]
    },
    {
      "cell_type": "markdown",
      "metadata": {
        "id": "ar7_RhxqpJPn"
      },
      "source": [
        "### Answer 6 :"
      ]
    },
    {
      "cell_type": "code",
      "metadata": {
        "id": "X8h_injPepcF"
      },
      "source": [
        "rr = data[data['Make'] == 'Rolls-Royce']\n",
        "rrv = rr[[\"Engine HP\", \"Engine Cylinders\", \"highway MPG\"]]"
      ],
      "execution_count": 55,
      "outputs": []
    },
    {
      "cell_type": "code",
      "metadata": {
        "colab": {
          "base_uri": "https://localhost:8080/",
          "height": 269
        },
        "id": "ulDP4bbhfUSr",
        "outputId": "4dac6cbe-31d7-467d-ff38-a8beea180952"
      },
      "source": [
        "# removing duplicates\n",
        "rrv.drop_duplicates()"
      ],
      "execution_count": 59,
      "outputs": [
        {
          "output_type": "execute_result",
          "data": {
            "text/html": [
              "<div>\n",
              "<style scoped>\n",
              "    .dataframe tbody tr th:only-of-type {\n",
              "        vertical-align: middle;\n",
              "    }\n",
              "\n",
              "    .dataframe tbody tr th {\n",
              "        vertical-align: top;\n",
              "    }\n",
              "\n",
              "    .dataframe thead th {\n",
              "        text-align: right;\n",
              "    }\n",
              "</style>\n",
              "<table border=\"1\" class=\"dataframe\">\n",
              "  <thead>\n",
              "    <tr style=\"text-align: right;\">\n",
              "      <th></th>\n",
              "      <th>Engine HP</th>\n",
              "      <th>Engine Cylinders</th>\n",
              "      <th>highway MPG</th>\n",
              "    </tr>\n",
              "  </thead>\n",
              "  <tbody>\n",
              "    <tr>\n",
              "      <th>2921</th>\n",
              "      <td>325.0</td>\n",
              "      <td>8.0</td>\n",
              "      <td>15</td>\n",
              "    </tr>\n",
              "    <tr>\n",
              "      <th>3505</th>\n",
              "      <td>563.0</td>\n",
              "      <td>12.0</td>\n",
              "      <td>19</td>\n",
              "    </tr>\n",
              "    <tr>\n",
              "      <th>5275</th>\n",
              "      <td>563.0</td>\n",
              "      <td>12.0</td>\n",
              "      <td>21</td>\n",
              "    </tr>\n",
              "    <tr>\n",
              "      <th>5279</th>\n",
              "      <td>563.0</td>\n",
              "      <td>12.0</td>\n",
              "      <td>20</td>\n",
              "    </tr>\n",
              "    <tr>\n",
              "      <th>7443</th>\n",
              "      <td>322.0</td>\n",
              "      <td>12.0</td>\n",
              "      <td>15</td>\n",
              "    </tr>\n",
              "    <tr>\n",
              "      <th>7553</th>\n",
              "      <td>453.0</td>\n",
              "      <td>12.0</td>\n",
              "      <td>19</td>\n",
              "    </tr>\n",
              "    <tr>\n",
              "      <th>11448</th>\n",
              "      <td>624.0</td>\n",
              "      <td>12.0</td>\n",
              "      <td>21</td>\n",
              "    </tr>\n",
              "  </tbody>\n",
              "</table>\n",
              "</div>"
            ],
            "text/plain": [
              "       Engine HP  Engine Cylinders  highway MPG\n",
              "2921       325.0               8.0           15\n",
              "3505       563.0              12.0           19\n",
              "5275       563.0              12.0           21\n",
              "5279       563.0              12.0           20\n",
              "7443       322.0              12.0           15\n",
              "7553       453.0              12.0           19\n",
              "11448      624.0              12.0           21"
            ]
          },
          "metadata": {},
          "execution_count": 59
        }
      ]
    },
    {
      "cell_type": "code",
      "metadata": {
        "id": "pk6394SegPPP"
      },
      "source": [
        "# array without duplicates\n",
        "X = np.array(rrv.drop_duplicates())"
      ],
      "execution_count": 60,
      "outputs": []
    },
    {
      "cell_type": "code",
      "metadata": {
        "id": "B1pOTLSZg8MJ"
      },
      "source": [
        "# transpose array\n",
        "T = np.transpose(X)"
      ],
      "execution_count": 75,
      "outputs": []
    },
    {
      "cell_type": "code",
      "metadata": {
        "colab": {
          "base_uri": "https://localhost:8080/"
        },
        "id": "ouXiyAcFhMOu",
        "outputId": "5692863b-9505-45ec-dc02-3998f8213e7e"
      },
      "source": [
        "X"
      ],
      "execution_count": 64,
      "outputs": [
        {
          "output_type": "execute_result",
          "data": {
            "text/plain": [
              "array([[325.,   8.,  15.],\n",
              "       [563.,  12.,  19.],\n",
              "       [563.,  12.,  21.],\n",
              "       [563.,  12.,  20.],\n",
              "       [322.,  12.,  15.],\n",
              "       [453.,  12.,  19.],\n",
              "       [624.,  12.,  21.]])"
            ]
          },
          "metadata": {},
          "execution_count": 64
        }
      ]
    },
    {
      "cell_type": "code",
      "metadata": {
        "colab": {
          "base_uri": "https://localhost:8080/"
        },
        "id": "CDVSGtgPhOPE",
        "outputId": "77dd811d-5d12-441c-e0fc-72e1481d9c69"
      },
      "source": [
        "T"
      ],
      "execution_count": 76,
      "outputs": [
        {
          "output_type": "execute_result",
          "data": {
            "text/plain": [
              "array([[325., 563., 563., 563., 322., 453., 624.],\n",
              "       [  8.,  12.,  12.,  12.,  12.,  12.,  12.],\n",
              "       [ 15.,  19.,  21.,  20.,  15.,  19.,  21.]])"
            ]
          },
          "metadata": {},
          "execution_count": 76
        }
      ]
    },
    {
      "cell_type": "code",
      "metadata": {
        "colab": {
          "base_uri": "https://localhost:8080/"
        },
        "id": "IdfRRBguh_9p",
        "outputId": "cdc35ee3-3fdd-4561-d39b-ea9109ccd53e"
      },
      "source": [
        "# matrix multiplication\n",
        "XTX = np.matmul(T,X)\n",
        "XTX"
      ],
      "execution_count": 90,
      "outputs": [
        {
          "output_type": "execute_result",
          "data": {
            "text/plain": [
              "array([[1.754801e+06, 3.965600e+04, 6.519600e+04],\n",
              "       [3.965600e+04, 9.280000e+02, 1.500000e+03],\n",
              "       [6.519600e+04, 1.500000e+03, 2.454000e+03]])"
            ]
          },
          "metadata": {},
          "execution_count": 90
        }
      ]
    },
    {
      "cell_type": "code",
      "metadata": {
        "colab": {
          "base_uri": "https://localhost:8080/"
        },
        "id": "QJ6YvIJWjodF",
        "outputId": "c94bced1-00ec-428a-cee9-2decdaf86c6a"
      },
      "source": [
        "# inverse matrix\n",
        "XTX_inv = np.linalg.inv(XTX)\n",
        "\n",
        "# sum\n",
        "XTX_inv.sum()"
      ],
      "execution_count": 92,
      "outputs": [
        {
          "output_type": "execute_result",
          "data": {
            "text/plain": [
              "0.032212320677486125"
            ]
          },
          "metadata": {},
          "execution_count": 92
        }
      ]
    },
    {
      "cell_type": "markdown",
      "metadata": {
        "id": "YsY-m6NWo_bB"
      },
      "source": [
        "### Answer 7 :"
      ]
    },
    {
      "cell_type": "code",
      "metadata": {
        "id": "Ngv1aZl5k_qJ"
      },
      "source": [
        "y = [1000, 1100, 900, 1200, 1000, 850, 1300]"
      ],
      "execution_count": 93,
      "outputs": []
    },
    {
      "cell_type": "code",
      "metadata": {
        "colab": {
          "base_uri": "https://localhost:8080/"
        },
        "id": "QOZ3r-Jomc73",
        "outputId": "6240fe6c-7caa-4185-f370-c4fec4c4e50b"
      },
      "source": [
        "w = np.matmul(XTX_inv, T)\n",
        "w = np.matmul(w, y)\n",
        "w[0]"
      ],
      "execution_count": 100,
      "outputs": [
        {
          "output_type": "execute_result",
          "data": {
            "text/plain": [
              "0.19989598183188978"
            ]
          },
          "metadata": {},
          "execution_count": 100
        }
      ]
    },
    {
      "cell_type": "markdown",
      "metadata": {
        "id": "iYpdaiWRqriM"
      },
      "source": [
        "---\n"
      ]
    }
  ]
}